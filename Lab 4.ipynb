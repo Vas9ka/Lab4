{
 "cells": [
  {
   "cell_type": "code",
   "execution_count": 1,
   "metadata": {
    "collapsed": true
   },
   "outputs": [],
   "source": [
    "import urllib.request\n",
    "import pandas as pd\n",
    "from scipy.integrate import solve_ivp\n",
    "from scipy.optimize import minimize\n",
    "import numpy as np\n",
    "from datetime import timedelta, datetime\n",
    "import matplotlib.pyplot as plt\n",
    "import os\n",
    "import json\n",
    "import sys\n",
    "from csv import reader\n",
    "from csv import writer\n",
    "from scipy.integrate import odeint"
   ]
  },
  {
   "cell_type": "code",
   "execution_count": 2,
   "outputs": [],
   "source": [
    "def download_data(url_dictionary):\n",
    "    #Lets download the files\n",
    "    for url_title in url_dictionary.keys():\n",
    "        urllib.request.urlretrieve(url_dictionary[url_title], \"./data/\" + url_title)"
   ],
   "metadata": {
    "collapsed": false,
    "pycharm": {
     "name": "#%%\n"
    }
   }
  },
  {
   "cell_type": "code",
   "execution_count": 3,
   "outputs": [],
   "source": [
    "def load_json(json_file_str):\n",
    "    # Loads  JSON into a dictionary or quits the program if it cannot.\n",
    "    try:\n",
    "        with open(json_file_str, \"r\") as json_file:\n",
    "            json_variable = json.load(json_file)\n",
    "            return json_variable\n",
    "    except Exception:\n",
    "        sys.exit(\"Cannot open JSON file: \" + json_file_str)"
   ],
   "metadata": {
    "collapsed": false,
    "pycharm": {
     "name": "#%%\n"
    }
   }
  },
  {
   "cell_type": "code",
   "execution_count": 4,
   "outputs": [],
   "source": [
    "def sumCases_province(input_file, output_file):\n",
    "    with open(input_file, \"r\") as read_obj, open(output_file, 'w', newline='') as write_obj:\n",
    "        csv_reader = reader(read_obj)\n",
    "        csv_writer = writer(write_obj)\n",
    "\n",
    "        lines = []\n",
    "        for line in csv_reader:\n",
    "            lines.append(line)\n",
    "\n",
    "        i = 0\n",
    "        ix = 0\n",
    "        for i in range(0, len(lines[:]) - 1):\n",
    "            if lines[i][1] == lines[i + 1][1]:\n",
    "                if ix == 0:\n",
    "                    ix = i\n",
    "                lines[ix][4:] = np.asfarray(lines[ix][4:], float) + np.asfarray(lines[i + 1][4:], float)\n",
    "            else:\n",
    "                if not ix == 0:\n",
    "                    lines[ix][0] = \"\"\n",
    "                    csv_writer.writerow(lines[ix])\n",
    "                    ix = 0\n",
    "                else:\n",
    "                    csv_writer.writerow(lines[i])\n",
    "            i += 1\n"
   ],
   "metadata": {
    "collapsed": false,
    "pycharm": {
     "name": "#%%\n"
    }
   }
  },
  {
   "cell_type": "code",
   "execution_count": 5,
   "outputs": [],
   "source": [
    "data_d = load_json(\"./data_url.json\")\n",
    "download_data(data_d)"
   ],
   "metadata": {
    "collapsed": false,
    "pycharm": {
     "name": "#%%\n"
    }
   }
  },
  {
   "cell_type": "code",
   "execution_count": 6,
   "outputs": [],
   "source": [
    "sumCases_province('data/time_series_19-covid-Confirmed.csv', 'data/time_series_19-covid-Confirmed-country.csv')\n",
    "sumCases_province('data/time_series_19-covid-Recovered.csv', 'data/time_series_19-covid-Recovered-country.csv')\n",
    "sumCases_province('data/time_series_19-covid-Deaths.csv', 'data/time_series_19-covid-Deaths-country.csv')"
   ],
   "metadata": {
    "collapsed": false,
    "pycharm": {
     "name": "#%%\n"
    }
   }
  },
  {
   "cell_type": "code",
   "execution_count": 50,
   "outputs": [],
   "source": [
    "data_confirmed = pd.read_csv('data/time_series_19-covid-Confirmed-country.csv')\n",
    "data_recovered = pd.read_csv('data/time_series_19-covid-Recovered-country.csv')\n",
    "data_deaths = pd.read_csv('data/time_series_19-covid-Deaths-country.csv')\n"
   ],
   "metadata": {
    "collapsed": false,
    "pycharm": {
     "name": "#%%\n"
    }
   }
  },
  {
   "cell_type": "code",
   "execution_count": 104,
   "outputs": [],
   "source": [
    "def savePlot(strFile):\n",
    "    if os.path.isfile(strFile):\n",
    "        os.remove(strFile)  # Opt.: os.system(\"del \"+strFile)\n",
    "    plt.savefig(strFile, dpi=600)\n",
    "\n",
    "\n",
    "class Learner(object):\n",
    "    def __init__(self, loss, country, start_date, predict_range, s_0, i_0, r_0):\n",
    "        self.loss = loss\n",
    "        self.start_date = start_date\n",
    "        self.predict_range = predict_range\n",
    "        self.s_0 = s_0\n",
    "        self.i_0 = i_0\n",
    "        self.r_0 = r_0\n",
    "        self.country = country\n",
    "\n",
    "    def load_confirmed(self):\n",
    "        df = pd.read_csv('data/time_series_19-covid-Confirmed-country.csv')\n",
    "        country_df = df[df['Country/Region'] == self.country]\n",
    "        return country_df.iloc[0].loc[self.start_date:'3/19/21']\n",
    "\n",
    "    def load_recovered(self):\n",
    "        df = pd.read_csv('data/time_series_19-covid-Recovered-country.csv')\n",
    "        country_df = df[df['Country/Region'] == self.country]\n",
    "        return country_df.iloc[0].loc[self.start_date:'3/19/21']\n",
    "\n",
    "    def load_dead(self):\n",
    "        df = pd.read_csv('data/time_series_19-covid-Deaths-country.csv')\n",
    "        country_df = df[df['Country/Region'] == self.country]\n",
    "        return country_df.iloc[0].loc[self.start_date:'3/19/21']\n",
    "\n",
    "    def extend_index(self, index, new_size):\n",
    "        values = index.values\n",
    "        current = datetime.strptime(index[-1], '%m/%d/%y')\n",
    "\n",
    "        while len(values) < new_size:\n",
    "            current = current + timedelta(days=1)\n",
    "            values = np.append(values, datetime.strftime(current, '%m/%d/%y'))\n",
    "        return values\n",
    "\n",
    "    def predict(self, beta, gamma, data, recovered, death,healed, s_0, i_0, r_0):\n",
    "        new_index = self.extend_index(data.index, self.predict_range)\n",
    "        size = len(new_index)\n",
    "\n",
    "        def SIR(y, t):\n",
    "            S = y[0]\n",
    "            I = y[1]\n",
    "            R = y[2]\n",
    "            y0 = -beta * S * I\n",
    "            y1 = beta * S * I - gamma * I\n",
    "            y2 = gamma * I\n",
    "\n",
    "            return [y0, y1, y2]\n",
    "\n",
    "        extended_actual = np.concatenate((data.values, [None] * (size - len(data.values))))\n",
    "        extended_recovered = np.concatenate((recovered.values, [None] * (size - len(recovered.values))))\n",
    "        extended_death = np.concatenate((death.values, [None] * (size - len(death.values))))\n",
    "        extended_healed = np.concatenate((healed.values, [None] * (size - len(healed.values))))\n",
    "        y0=[s_0,i_0,r_0]\n",
    "        tspan=np.arange(0, size, 1)\n",
    "        res=odeint(SIR,y0,tspan)\n",
    "\n",
    "        optimal = minimize(loss2, gamma*0.02, args=(gamma, recovered, healed, death),\n",
    "                          bounds=[(0.00000001, gamma),])\n",
    "        print(optimal)\n",
    "        a = optimal.x[0]\n",
    "\n",
    "        prediction_death = a * res[:,2]/gamma\n",
    "        prediction_healed = res[:,2] - prediction_death\n",
    "        y0=res[:,0]\n",
    "        y1=res[:,1]\n",
    "        y2=res[:,2]\n",
    "\n",
    "        return new_index, extended_actual, extended_recovered, extended_death, y0, y1, y2, prediction_death, prediction_healed, extended_healed\n",
    "\n",
    "    def train(self):\n",
    "        self.healed = self.load_recovered()\n",
    "        self.death = self.load_dead()\n",
    "        self.recovered = self.healed + self.death\n",
    "        self.data = (self.load_confirmed() - self.recovered)\n",
    "        optimal = minimize(loss, [0.001, 0.001], args=(self.data, self.recovered, self.s_0, self.i_0, self.r_0),\n",
    "                           method='L-BFGS-B', bounds=[(0.00000001, 0.4), (0.00000001, 0.4)])\n",
    "        print(optimal)\n",
    "        beta, gamma = optimal.x\n",
    "        self.optimal_beta = beta\n",
    "        self.optimal_gamma = gamma\n",
    "\n",
    "    def plot(self):\n",
    "        beta = self.optimal_beta\n",
    "        gamma = self.optimal_gamma\n",
    "        death = self.death\n",
    "        healed = self.healed\n",
    "        recovered = self.recovered\n",
    "        data = self.data\n",
    "\n",
    "        new_index, extended_actual, extended_recovered, extended_death, y0, y1, y2, prediction_death, prediction_healed, extended_healed = self.predict(beta, gamma, data, recovered, death, healed, self.s_0, self.i_0, self.r_0)\n",
    "\n",
    "        df = pd.DataFrame({'Infected data': extended_actual,\n",
    "                            'Death data': extended_death,\n",
    "                            'Susceptible': y0,\n",
    "                            'Infected': y1,\n",
    "                            'Predicted Recovered (Alive)': prediction_healed,\n",
    "                            'Predicted Deaths': prediction_death,\n",
    "                            'Recovered (Alive)': extended_healed},\n",
    "                            index=new_index)\n",
    "        fig, ax = plt.subplots(figsize=(15, 10))\n",
    "        ax.set_title(self.country)\n",
    "        df.plot(ax=ax)\n",
    "        print(f\"country={self.country}, beta={beta:.8f}, gamma={gamma:.8f}, r_0:{(beta/gamma):.8f}\")\n",
    "        fig.savefig(self.country + '.png')\n",
    "        return df\n",
    "\n",
    "\n",
    "def loss(point, data, recovered, s_0, i_0, r_0):\n",
    "    size = len(data)\n",
    "    beta, gamma = point\n",
    "\n",
    "    def SIR(y, t):\n",
    "        S = y[0]\n",
    "        I = y[1]\n",
    "        R = y[2]\n",
    "        y0 = -beta * S * I\n",
    "        y1 = beta * S * I - gamma * I\n",
    "        y2 = gamma * I\n",
    "        return [y0, y1, y2]\n",
    "\n",
    "    y0=[s_0,i_0,r_0]\n",
    "    tspan=np.arange(0, size, 1)\n",
    "    res=odeint(SIR,y0,tspan)\n",
    "    l1 = np.sqrt(np.mean((res[:,1] - data)**2))\n",
    "    l2 = np.sqrt(np.mean((res[:,2] - recovered)**2))\n",
    "\n",
    "    alpha = 0.1\n",
    "    return alpha * l1 + (1 - alpha) * l2\n",
    "\n",
    "def loss2(a, gamma, recovered, healed, death):\n",
    "\n",
    "    estimated_death = a * (recovered / gamma)\n",
    "    estimated_healed = recovered - estimated_death\n",
    "\n",
    "    l1 = np.sqrt(np.mean((estimated_death - death)**2))\n",
    "    l2 = np.sqrt(np.mean((estimated_healed - healed)**2))\n",
    "\n",
    "    alpha = 0.9\n",
    "    return alpha*l1 + (1-alpha)*l2"
   ],
   "metadata": {
    "collapsed": false,
    "pycharm": {
     "name": "#%%\n"
    }
   }
  },
  {
   "cell_type": "code",
   "execution_count": 106,
   "outputs": [
    {
     "name": "stdout",
     "output_type": "stream",
     "text": [
      "      fun: 702801.5776451589\n",
      " hess_inv: <2x2 LbfgsInvHessProduct with dtype=float64>\n",
      "      jac: array([0.        , 0.38417056])\n",
      "  message: 'CONVERGENCE: REL_REDUCTION_OF_F_<=_FACTR*EPSMCH'\n",
      "     nfev: 72\n",
      "      nit: 6\n",
      "     njev: 24\n",
      "   status: 0\n",
      "  success: True\n",
      "        x: array([0.37122016, 0.00784825])\n",
      "      fun: 19136.243986510974\n",
      " hess_inv: <1x1 LbfgsInvHessProduct with dtype=float64>\n",
      "      jac: array([0.00145519])\n",
      "  message: 'CONVERGENCE: REL_REDUCTION_OF_F_<=_FACTR*EPSMCH'\n",
      "     nfev: 14\n",
      "      nit: 4\n",
      "     njev: 7\n",
      "   status: 0\n",
      "  success: True\n",
      "        x: array([0.00035618])\n",
      "country=Italy, beta=0.37122016, gamma=0.00784825, r_0:47.29974746\n"
     ]
    },
    {
     "data": {
      "text/plain": "<Figure size 1080x720 with 1 Axes>",
      "image/png": "[encoded data removed]"
     },
     "metadata": {
      "needs_background": "light"
     },
     "output_type": "display_data"
    }
   ],
   "source": [
    "learner = Learner(loss, 'Italy', '1/31/20', 150, 700000, 1500, 0)\n",
    "learner.train()\n",
    "df = learner.plot()"
   ],
   "metadata": {
    "collapsed": false,
    "pycharm": {
     "name": "#%%\n"
    }
   }
  },
  {
   "cell_type": "code",
   "execution_count": 78,
   "outputs": [
    {
     "data": {
      "text/plain": "         Infected data Death data    Susceptible       Infected  \\\n1/31/20            0.0        0.0  300000.000000    1500.000000   \n2/1/20             1.0        0.0  299971.041275    1528.115896   \n2/2/20             1.0        0.0  299941.542658    1556.755887   \n2/3/20             1.0        0.0  299911.494189    1585.929639   \n2/4/20             1.0        0.0  299880.885733    1615.646986   \n...                ...        ...            ...            ...   \n12/15/20      333515.0     7514.0  102497.332657  189626.126390   \n12/16/20      340783.0     7802.0  101261.890941  190755.691349   \n12/17/20      349573.0     7893.0  100034.162181  191876.916857   \n12/18/20      359127.0     7993.0   98814.280916  192989.673053   \n12/19/20      359127.0     7993.0   97602.377239  194093.834591   \n\n          Predicted Recovered (Alive)  Predicted Deaths Recovered (Alive)  \n1/31/20                           0.0         10.000000               0.0  \n2/1/20                            0.0         10.842829               0.0  \n2/2/20                            0.0         11.701455               0.0  \n2/3/20                            0.0         12.576172               0.0  \n2/4/20                            0.0         13.467281               0.0  \n...                               ...               ...               ...  \n12/15/20                          0.0       9386.540954               0.0  \n12/16/20                          0.0       9492.417710               0.0  \n12/17/20                          0.0       9598.920962               0.0  \n12/18/20                          0.0       9706.046032               0.0  \n12/19/20                          0.0       9813.788170               0.0  \n\n[324 rows x 7 columns]",
      "text/html": "<div>\n<style scoped>\n    .dataframe tbody tr th:only-of-type {\n        vertical-align: middle;\n    }\n\n    .dataframe tbody tr th {\n        vertical-align: top;\n    }\n\n    .dataframe thead th {\n        text-align: right;\n    }\n</style>\n<table border=\"1\" class=\"dataframe\">\n  <thead>\n    <tr style=\"text-align: right;\">\n      <th></th>\n      <th>Infected data</th>\n      <th>Death data</th>\n      <th>Susceptible</th>\n      <th>Infected</th>\n      <th>Predicted Recovered (Alive)</th>\n      <th>Predicted Deaths</th>\n      <th>Recovered (Alive)</th>\n    </tr>\n  </thead>\n  <tbody>\n    <tr>\n      <th>1/31/20</th>\n      <td>0.0</td>\n      <td>0.0</td>\n      <td>300000.000000</td>\n      <td>1500.000000</td>\n      <td>0.0</td>\n      <td>10.000000</td>\n      <td>0.0</td>\n    </tr>\n    <tr>\n      <th>2/1/20</th>\n      <td>1.0</td>\n      <td>0.0</td>\n      <td>299971.041275</td>\n      <td>1528.115896</td>\n      <td>0.0</td>\n      <td>10.842829</td>\n      <td>0.0</td>\n    </tr>\n    <tr>\n      <th>2/2/20</th>\n      <td>1.0</td>\n      <td>0.0</td>\n      <td>299941.542658</td>\n      <td>1556.755887</td>\n      <td>0.0</td>\n      <td>11.701455</td>\n      <td>0.0</td>\n    </tr>\n    <tr>\n      <th>2/3/20</th>\n      <td>1.0</td>\n      <td>0.0</td>\n      <td>299911.494189</td>\n      <td>1585.929639</td>\n      <td>0.0</td>\n      <td>12.576172</td>\n      <td>0.0</td>\n    </tr>\n    <tr>\n      <th>2/4/20</th>\n      <td>1.0</td>\n      <td>0.0</td>\n      <td>299880.885733</td>\n      <td>1615.646986</td>\n      <td>0.0</td>\n      <td>13.467281</td>\n      <td>0.0</td>\n    </tr>\n    <tr>\n      <th>...</th>\n      <td>...</td>\n      <td>...</td>\n      <td>...</td>\n      <td>...</td>\n      <td>...</td>\n      <td>...</td>\n      <td>...</td>\n    </tr>\n    <tr>\n      <th>12/15/20</th>\n      <td>333515.0</td>\n      <td>7514.0</td>\n      <td>102497.332657</td>\n      <td>189626.126390</td>\n      <td>0.0</td>\n      <td>9386.540954</td>\n      <td>0.0</td>\n    </tr>\n    <tr>\n      <th>12/16/20</th>\n      <td>340783.0</td>\n      <td>7802.0</td>\n      <td>101261.890941</td>\n      <td>190755.691349</td>\n      <td>0.0</td>\n      <td>9492.417710</td>\n      <td>0.0</td>\n    </tr>\n    <tr>\n      <th>12/17/20</th>\n      <td>349573.0</td>\n      <td>7893.0</td>\n      <td>100034.162181</td>\n      <td>191876.916857</td>\n      <td>0.0</td>\n      <td>9598.920962</td>\n      <td>0.0</td>\n    </tr>\n    <tr>\n      <th>12/18/20</th>\n      <td>359127.0</td>\n      <td>7993.0</td>\n      <td>98814.280916</td>\n      <td>192989.673053</td>\n      <td>0.0</td>\n      <td>9706.046032</td>\n      <td>0.0</td>\n    </tr>\n    <tr>\n      <th>12/19/20</th>\n      <td>359127.0</td>\n      <td>7993.0</td>\n      <td>97602.377239</td>\n      <td>194093.834591</td>\n      <td>0.0</td>\n      <td>9813.788170</td>\n      <td>0.0</td>\n    </tr>\n  </tbody>\n</table>\n<p>324 rows × 7 columns</p>\n</div>"
     },
     "execution_count": 78,
     "metadata": {},
     "output_type": "execute_result"
    }
   ],
   "source": [
    "df"
   ],
   "metadata": {
    "collapsed": false,
    "pycharm": {
     "name": "#%%\n"
    }
   }
  },
  {
   "cell_type": "code",
   "execution_count": 52,
   "outputs": [
    {
     "data": {
      "text/plain": "85    34738.0\nName: 6/28/20, dtype: float64"
     },
     "execution_count": 52,
     "metadata": {},
     "output_type": "execute_result"
    }
   ],
   "source": [
    "data_deaths[data_deaths['Country/Region'] == 'Italy']['6/28/20']"
   ],
   "metadata": {
    "collapsed": false,
    "pycharm": {
     "name": "#%%\n"
    }
   }
  },
  {
   "cell_type": "code",
   "execution_count": 53,
   "outputs": [
    {
     "data": {
      "text/plain": "85    181228.0\nName: 4/20/20, dtype: float64"
     },
     "execution_count": 53,
     "metadata": {},
     "output_type": "execute_result"
    }
   ],
   "source": [],
   "metadata": {
    "collapsed": false,
    "pycharm": {
     "name": "#%%\n"
    }
   }
  }
 ],
 "metadata": {
  "kernelspec": {
   "display_name": "Python 3",
   "language": "python",
   "name": "python3"
  },
  "language_info": {
   "codemirror_mode": {
    "name": "ipython",
    "version": 2
   },
   "file_extension": ".py",
   "mimetype": "text/x-python",
   "name": "python",
   "nbconvert_exporter": "python",
   "pygments_lexer": "ipython2",
   "version": "2.7.6"
  }
 },
 "nbformat": 4,
 "nbformat_minor": 0
}